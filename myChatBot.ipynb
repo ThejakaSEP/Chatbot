{
 "cells": [
  {
   "cell_type": "code",
   "execution_count": null,
   "id": "9120163a",
   "metadata": {
    "scrolled": true
   },
   "outputs": [],
   "source": [
    "pip install chatterbot==1.0.0"
   ]
  },
  {
   "cell_type": "code",
   "execution_count": null,
   "id": "232770da",
   "metadata": {},
   "outputs": [],
   "source": [
    "pip install chatterbot_corpus"
   ]
  },
  {
   "cell_type": "code",
   "execution_count": 2,
   "id": "e870c8be",
   "metadata": {},
   "outputs": [],
   "source": [
    "from chatterbot import ChatBot"
   ]
  },
  {
   "cell_type": "code",
   "execution_count": 3,
   "id": "92bda290",
   "metadata": {
    "collapsed": true
   },
   "outputs": [
    {
     "name": "stderr",
     "output_type": "stream",
     "text": [
      "[nltk_data] Downloading package averaged_perceptron_tagger to\n",
      "[nltk_data]     /Users/thejakamahaulpatha/nltk_data...\n",
      "[nltk_data]   Unzipping taggers/averaged_perceptron_tagger.zip.\n",
      "[nltk_data] Downloading package punkt to\n",
      "[nltk_data]     /Users/thejakamahaulpatha/nltk_data...\n",
      "[nltk_data]   Unzipping tokenizers/punkt.zip.\n",
      "[nltk_data] Downloading package stopwords to\n",
      "[nltk_data]     /Users/thejakamahaulpatha/nltk_data...\n",
      "[nltk_data]   Unzipping corpora/stopwords.zip.\n",
      "[nltk_data] Downloading package wordnet to\n",
      "[nltk_data]     /Users/thejakamahaulpatha/nltk_data...\n",
      "[nltk_data]   Unzipping corpora/wordnet.zip.\n"
     ]
    }
   ],
   "source": [
    "# Create object of ChatBot class\n",
    "bot = ChatBot('Buddy')"
   ]
  },
  {
   "cell_type": "code",
   "execution_count": 4,
   "id": "82f512ca",
   "metadata": {
    "collapsed": true
   },
   "outputs": [
    {
     "name": "stderr",
     "output_type": "stream",
     "text": [
      "[nltk_data] Downloading package averaged_perceptron_tagger to\n",
      "[nltk_data]     /Users/thejakamahaulpatha/nltk_data...\n",
      "[nltk_data]   Package averaged_perceptron_tagger is already up-to-\n",
      "[nltk_data]       date!\n",
      "[nltk_data] Downloading package punkt to\n",
      "[nltk_data]     /Users/thejakamahaulpatha/nltk_data...\n",
      "[nltk_data]   Package punkt is already up-to-date!\n",
      "[nltk_data] Downloading package stopwords to\n",
      "[nltk_data]     /Users/thejakamahaulpatha/nltk_data...\n",
      "[nltk_data]   Package stopwords is already up-to-date!\n"
     ]
    }
   ],
   "source": [
    "# Create object of ChatBot class with Storage Adapter\n",
    "bot = ChatBot(\n",
    "    'Buddy',\n",
    "    storage_adapter='chatterbot.storage.SQLStorageAdapter',\n",
    "    database_uri='sqlite:///database.sqlite3'\n",
    ")"
   ]
  },
  {
   "cell_type": "code",
   "execution_count": 5,
   "id": "8b7c1448",
   "metadata": {
    "collapsed": true
   },
   "outputs": [
    {
     "name": "stderr",
     "output_type": "stream",
     "text": [
      "[nltk_data] Downloading package averaged_perceptron_tagger to\n",
      "[nltk_data]     /Users/thejakamahaulpatha/nltk_data...\n",
      "[nltk_data]   Package averaged_perceptron_tagger is already up-to-\n",
      "[nltk_data]       date!\n",
      "[nltk_data] Downloading package punkt to\n",
      "[nltk_data]     /Users/thejakamahaulpatha/nltk_data...\n",
      "[nltk_data]   Package punkt is already up-to-date!\n",
      "[nltk_data] Downloading package stopwords to\n",
      "[nltk_data]     /Users/thejakamahaulpatha/nltk_data...\n",
      "[nltk_data]   Package stopwords is already up-to-date!\n"
     ]
    }
   ],
   "source": [
    "# Create object of ChatBot class with Logic Adapter\n",
    "bot = ChatBot(\n",
    "    'Buddy',  \n",
    "    logic_adapters=[\n",
    "        'chatterbot.logic.BestMatch',\n",
    "        'chatterbot.logic.TimeLogicAdapter'],\n",
    ")"
   ]
  },
  {
   "cell_type": "markdown",
   "id": "6ba7af1f",
   "metadata": {},
   "source": [
    "# Training the chatbot\n"
   ]
  },
  {
   "cell_type": "code",
   "execution_count": 6,
   "id": "e446b416",
   "metadata": {},
   "outputs": [
    {
     "name": "stdout",
     "output_type": "stream",
     "text": [
      "List Trainer: [####################] 100%\n"
     ]
    }
   ],
   "source": [
    "# Inport ListTrainer\n",
    "from chatterbot.trainers import ListTrainer\n",
    "\n",
    "trainer = ListTrainer(bot)\n",
    "\n",
    "trainer.train([\n",
    "'Hi',\n",
    "'Hello',\n",
    "'I need your assistance regarding my order',\n",
    "'Please, Provide me with your order id',\n",
    "'I have a complaint.',\n",
    "'Please elaborate, your concern',\n",
    "'How long it will take to receive an order ?',\n",
    "'An order takes 3-5 Business days to get delivered.',\n",
    "'Okay Thanks',\n",
    "'No Problem! Have a Good Day!'\n",
    "])"
   ]
  },
  {
   "cell_type": "markdown",
   "id": "07207493",
   "metadata": {},
   "source": [
    "# Chatbot Testing "
   ]
  },
  {
   "cell_type": "code",
   "execution_count": 7,
   "id": "879d3d54",
   "metadata": {},
   "outputs": [
    {
     "name": "stderr",
     "output_type": "stream",
     "text": [
      "No value for search_text was available on the provided input\n"
     ]
    },
    {
     "name": "stdout",
     "output_type": "stream",
     "text": [
      "Bot Response: Please elaborate, your concern\n"
     ]
    }
   ],
   "source": [
    "# Get a response to the input text 'I would like to book a flight.'\n",
    "response = bot.get_response('I have a complaint.')\n",
    "\n",
    "print(\"Bot Response:\", response)\n"
   ]
  },
  {
   "cell_type": "markdown",
   "id": "c403457a",
   "metadata": {},
   "source": [
    "### We will create a while loop for our chatbot to run in."
   ]
  },
  {
   "cell_type": "code",
   "execution_count": 8,
   "id": "a7cb3294",
   "metadata": {},
   "outputs": [
    {
     "name": "stdout",
     "output_type": "stream",
     "text": [
      "Enter Your Name: Thejaka\n",
      "Welcome to the Bot Service! Let me know how can I help you?\n",
      "Thejaka:I need your assistance regarding my order\n"
     ]
    },
    {
     "name": "stderr",
     "output_type": "stream",
     "text": [
      "No value for search_text was available on the provided input\n"
     ]
    },
    {
     "name": "stdout",
     "output_type": "stream",
     "text": [
      "Bot: Please, Provide me with your order id\n",
      "Thejaka:8734\n"
     ]
    },
    {
     "name": "stderr",
     "output_type": "stream",
     "text": [
      "No value for search_text was available on the provided input\n"
     ]
    },
    {
     "name": "stdout",
     "output_type": "stream",
     "text": [
      "Bot: The current time is 12:51 PM\n",
      "Thejaka:bye\n",
      "Bot: Bye\n"
     ]
    }
   ],
   "source": [
    "name=input(\"Enter Your Name: \")\n",
    "print(\"Welcome to the Bot Service! Let me know how can I help you?\")\n",
    "while True:\n",
    "    request=input(name+':')\n",
    "    if request=='Bye' or request =='bye':\n",
    "        print('Bot: Bye')\n",
    "        break\n",
    "    else:\n",
    "        response=bot.get_response(request)\n",
    "        print('Bot:',response)"
   ]
  },
  {
   "cell_type": "code",
   "execution_count": null,
   "id": "2e98f577",
   "metadata": {},
   "outputs": [],
   "source": []
  }
 ],
 "metadata": {
  "kernelspec": {
   "display_name": "Python 3",
   "language": "python",
   "name": "python3"
  },
  "language_info": {
   "codemirror_mode": {
    "name": "ipython",
    "version": 3
   },
   "file_extension": ".py",
   "mimetype": "text/x-python",
   "name": "python",
   "nbconvert_exporter": "python",
   "pygments_lexer": "ipython3",
   "version": "3.8.8"
  }
 },
 "nbformat": 4,
 "nbformat_minor": 5
}
